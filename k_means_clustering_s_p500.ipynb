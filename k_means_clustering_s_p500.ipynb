{
 "cells": [
  {
   "cell_type": "markdown",
   "metadata": {},
   "source": [
    "# Introduction\n",
    "The project was to classify stocks from the stock market and group them into 3 clusters to find which stocks were performing best, average and worst. This was to be done using K-means Clustering. The dataset used can be found [HERE](https://www.kaggle.com/kp4920/s-p-500-stock-data-time-series-analysis/data).\n",
    "\n",
    "Information about stock market analysis and Data Science was done from [Fool](https://www.fool.com/), [Investopedia](https://www.investopedia.com/), [preMBA_Columbia](http://ci.columbia.edu/ci/premba_test/c0332/s6/s6_4.html) and [Medium Daily](https://medium.com/uptick-blog)\n",
    "## What is K-means clustering?\n",
    "K-means clustering is a type of unsupervised learning model. Unsupervised models are used to learn from a data set that is not classified. It identifies commonalities in the data set and react based on the presence or absence of such commonalities in each data point.\n",
    "\n",
    "## How does K-means clustering works?\n",
    "1. K number of cluster centroids are initialized randomly\n",
    "2. Data points that are near to the cluster centroids are assigned to that cluster\n",
    "3. The centroids will then move to the average point in the cluster and the data points will be re-assigned again\n",
    "4. Step 1 and 2 will be repeated until there is no change in the clusters.\n",
    "\n",
    "Source: [HERE](https://towardsdatascience.com/understanding-k-means-clustering-in-machine-learning-6a6e67336aa1)"
   ]
  },
  {
   "cell_type": "code",
   "execution_count": 57,
   "metadata": {},
   "outputs": [],
   "source": [
    "import pandas as pd\n",
    "import numpy as np\n",
    "import matplotlib.pyplot as plt\n",
    "import seaborn as sns\n",
    "import datetime as dt"
   ]
  },
  {
   "cell_type": "code",
   "execution_count": 58,
   "metadata": {},
   "outputs": [],
   "source": [
    "df = pd.read_csv('all_stocks_5yr.csv')"
   ]
  },
  {
   "cell_type": "code",
   "execution_count": 59,
   "metadata": {},
   "outputs": [
    {
     "data": {
      "text/html": [
       "<div>\n",
       "<style scoped>\n",
       "    .dataframe tbody tr th:only-of-type {\n",
       "        vertical-align: middle;\n",
       "    }\n",
       "\n",
       "    .dataframe tbody tr th {\n",
       "        vertical-align: top;\n",
       "    }\n",
       "\n",
       "    .dataframe thead th {\n",
       "        text-align: right;\n",
       "    }\n",
       "</style>\n",
       "<table border=\"1\" class=\"dataframe\">\n",
       "  <thead>\n",
       "    <tr style=\"text-align: right;\">\n",
       "      <th></th>\n",
       "      <th>Date</th>\n",
       "      <th>Open</th>\n",
       "      <th>High</th>\n",
       "      <th>Low</th>\n",
       "      <th>Close</th>\n",
       "      <th>Volume</th>\n",
       "      <th>Name</th>\n",
       "    </tr>\n",
       "  </thead>\n",
       "  <tbody>\n",
       "    <tr>\n",
       "      <th>0</th>\n",
       "      <td>2012-08-13</td>\n",
       "      <td>92.29</td>\n",
       "      <td>92.59</td>\n",
       "      <td>91.74</td>\n",
       "      <td>92.40</td>\n",
       "      <td>2075391.0</td>\n",
       "      <td>MMM</td>\n",
       "    </tr>\n",
       "    <tr>\n",
       "      <th>1</th>\n",
       "      <td>2012-08-14</td>\n",
       "      <td>92.36</td>\n",
       "      <td>92.50</td>\n",
       "      <td>92.01</td>\n",
       "      <td>92.30</td>\n",
       "      <td>1843476.0</td>\n",
       "      <td>MMM</td>\n",
       "    </tr>\n",
       "    <tr>\n",
       "      <th>2</th>\n",
       "      <td>2012-08-15</td>\n",
       "      <td>92.00</td>\n",
       "      <td>92.74</td>\n",
       "      <td>91.94</td>\n",
       "      <td>92.54</td>\n",
       "      <td>1983395.0</td>\n",
       "      <td>MMM</td>\n",
       "    </tr>\n",
       "    <tr>\n",
       "      <th>3</th>\n",
       "      <td>2012-08-16</td>\n",
       "      <td>92.75</td>\n",
       "      <td>93.87</td>\n",
       "      <td>92.21</td>\n",
       "      <td>93.74</td>\n",
       "      <td>3395145.0</td>\n",
       "      <td>MMM</td>\n",
       "    </tr>\n",
       "    <tr>\n",
       "      <th>4</th>\n",
       "      <td>2012-08-17</td>\n",
       "      <td>93.93</td>\n",
       "      <td>94.30</td>\n",
       "      <td>93.59</td>\n",
       "      <td>94.24</td>\n",
       "      <td>3069513.0</td>\n",
       "      <td>MMM</td>\n",
       "    </tr>\n",
       "  </tbody>\n",
       "</table>\n",
       "</div>"
      ],
      "text/plain": [
       "         Date   Open   High    Low  Close     Volume Name\n",
       "0  2012-08-13  92.29  92.59  91.74  92.40  2075391.0  MMM\n",
       "1  2012-08-14  92.36  92.50  92.01  92.30  1843476.0  MMM\n",
       "2  2012-08-15  92.00  92.74  91.94  92.54  1983395.0  MMM\n",
       "3  2012-08-16  92.75  93.87  92.21  93.74  3395145.0  MMM\n",
       "4  2012-08-17  93.93  94.30  93.59  94.24  3069513.0  MMM"
      ]
     },
     "execution_count": 59,
     "metadata": {},
     "output_type": "execute_result"
    }
   ],
   "source": [
    "df.head()"
   ]
  },
  {
   "cell_type": "markdown",
   "metadata": {},
   "source": [
    "> As we need to calculate the average returns for each stock for each year, we will create a column called Year. "
   ]
  },
  {
   "cell_type": "code",
   "execution_count": 60,
   "metadata": {},
   "outputs": [],
   "source": [
    "df = (\n",
    "    df\n",
    "    .pipe(lambda x: x.assign(Year=pd.to_datetime(x.Date).dt.year))\n",
    "    .query(\"Year >= 2012\")\n",
    "    [['Name', 'Date', 'Year', 'Open', 'Close']]\n",
    ")"
   ]
  },
  {
   "cell_type": "code",
   "execution_count": 61,
   "metadata": {},
   "outputs": [
    {
     "data": {
      "text/html": [
       "<div>\n",
       "<style scoped>\n",
       "    .dataframe tbody tr th:only-of-type {\n",
       "        vertical-align: middle;\n",
       "    }\n",
       "\n",
       "    .dataframe tbody tr th {\n",
       "        vertical-align: top;\n",
       "    }\n",
       "\n",
       "    .dataframe thead th {\n",
       "        text-align: right;\n",
       "    }\n",
       "</style>\n",
       "<table border=\"1\" class=\"dataframe\">\n",
       "  <thead>\n",
       "    <tr style=\"text-align: right;\">\n",
       "      <th></th>\n",
       "      <th>Name</th>\n",
       "      <th>Date</th>\n",
       "      <th>Year</th>\n",
       "      <th>Open</th>\n",
       "      <th>Close</th>\n",
       "    </tr>\n",
       "  </thead>\n",
       "  <tbody>\n",
       "    <tr>\n",
       "      <th>0</th>\n",
       "      <td>MMM</td>\n",
       "      <td>2012-08-13</td>\n",
       "      <td>2012</td>\n",
       "      <td>92.29</td>\n",
       "      <td>92.40</td>\n",
       "    </tr>\n",
       "    <tr>\n",
       "      <th>1</th>\n",
       "      <td>MMM</td>\n",
       "      <td>2012-08-14</td>\n",
       "      <td>2012</td>\n",
       "      <td>92.36</td>\n",
       "      <td>92.30</td>\n",
       "    </tr>\n",
       "    <tr>\n",
       "      <th>2</th>\n",
       "      <td>MMM</td>\n",
       "      <td>2012-08-15</td>\n",
       "      <td>2012</td>\n",
       "      <td>92.00</td>\n",
       "      <td>92.54</td>\n",
       "    </tr>\n",
       "    <tr>\n",
       "      <th>3</th>\n",
       "      <td>MMM</td>\n",
       "      <td>2012-08-16</td>\n",
       "      <td>2012</td>\n",
       "      <td>92.75</td>\n",
       "      <td>93.74</td>\n",
       "    </tr>\n",
       "    <tr>\n",
       "      <th>4</th>\n",
       "      <td>MMM</td>\n",
       "      <td>2012-08-17</td>\n",
       "      <td>2012</td>\n",
       "      <td>93.93</td>\n",
       "      <td>94.24</td>\n",
       "    </tr>\n",
       "  </tbody>\n",
       "</table>\n",
       "</div>"
      ],
      "text/plain": [
       "  Name        Date  Year   Open  Close\n",
       "0  MMM  2012-08-13  2012  92.29  92.40\n",
       "1  MMM  2012-08-14  2012  92.36  92.30\n",
       "2  MMM  2012-08-15  2012  92.00  92.54\n",
       "3  MMM  2012-08-16  2012  92.75  93.74\n",
       "4  MMM  2012-08-17  2012  93.93  94.24"
      ]
     },
     "execution_count": 61,
     "metadata": {},
     "output_type": "execute_result"
    }
   ],
   "source": [
    "df.head()"
   ]
  },
  {
   "cell_type": "code",
   "execution_count": 62,
   "metadata": {},
   "outputs": [
    {
     "name": "stdout",
     "output_type": "stream",
     "text": [
      "Name       0\n",
      "Date       0\n",
      "Year       0\n",
      "Open     384\n",
      "Close      0\n",
      "dtype: int64\n"
     ]
    }
   ],
   "source": [
    "print(df.isnull().sum())"
   ]
  },
  {
   "cell_type": "code",
   "execution_count": 63,
   "metadata": {},
   "outputs": [],
   "source": [
    "median = df['Open'].median()\n",
    "df['Open'].fillna(median, inplace=True)"
   ]
  },
  {
   "cell_type": "code",
   "execution_count": 64,
   "metadata": {},
   "outputs": [
    {
     "name": "stdout",
     "output_type": "stream",
     "text": [
      "Name     0\n",
      "Date     0\n",
      "Year     0\n",
      "Open     0\n",
      "Close    0\n",
      "dtype: int64\n"
     ]
    }
   ],
   "source": [
    "print(df.isnull().sum())"
   ]
  },
  {
   "cell_type": "markdown",
   "metadata": {},
   "source": [
    "## Average yearly return can be calculated in 3 steps:\n",
    "1. Calculate annual return of each year by subtracting the closing price of a stock on the last trading day in the year with the opening price of the same stock on the first trading day in the same year.\n",
    "2. Divide the value in step 1 by the opening price of the stock on the first trading day in the same year. You would obtain the annual return for that year. Repeat step 1 and 2 for X number of years you have.\n",
    "3. Sum up all the annual returns in the stated time period and divide the value by X number of years.\n",
    "\n",
    "## To calculate variance:\n",
    "1. Subtract each year's annual return with the average annual return and square that value.\n",
    "2. Sum all the values in step 1 and divide it by X years."
   ]
  },
  {
   "cell_type": "code",
   "execution_count": 65,
   "metadata": {},
   "outputs": [],
   "source": [
    "# getting the first day and last day of each year that is available in the dataset\n",
    "first_date_list = [df.query(\"Year == '{}'\".format(2012+i)).Date.min() for i in range(6)]\n",
    "last_date_list = [df.query(\"Year == '{}'\".format(2012+i)).Date.max() for i in range(6)]\n",
    "first_date_df = pd.DataFrame({\"Date\": first_date_list}) \n",
    "last_date_df = pd.DataFrame({\"Date\": last_date_list})"
   ]
  },
  {
   "cell_type": "code",
   "execution_count": 66,
   "metadata": {},
   "outputs": [],
   "source": [
    "# filtering for the first day in dataset\n",
    "first_date_df = (\n",
    "    df\n",
    "    .merge(first_date_df, on='Date', how='inner')\n",
    "    .pipe(lambda x: x.assign(year=x.Date.str[:4]))\n",
    "    .rename(columns={\"Open\": \"open_first_day\"})\n",
    "    .reset_index(drop=True)\n",
    "    [['Name', 'Year', 'open_first_day']]\n",
    "    .pivot_table(values='open_first_day', columns='Year', index='Name', aggfunc='sum')\n",
    "    .rename_axis(None, axis=1)\n",
    "    .reset_index()\n",
    ")\n",
    "\n",
    "# filtering last day in dataset \n",
    "last_date_df = (\n",
    "    df\n",
    "    .merge(last_date_df, on='Date', how='inner')\n",
    "    .pipe(lambda x: x.assign(year=x.Date.str[:4]))\n",
    "    .rename(columns={\"Close\": \"close_last_day\"})\n",
    "    .reset_index(drop=True)\n",
    "    [['Name', 'Year', 'close_last_day']]\n",
    "    .pivot_table(values='close_last_day', columns='Year', index='Name', aggfunc='sum')\n",
    "    .rename_axis(None, axis=1)\n",
    "    .reset_index()\n",
    ")"
   ]
  },
  {
   "cell_type": "code",
   "execution_count": 67,
   "metadata": {},
   "outputs": [
    {
     "data": {
      "text/html": [
       "<div>\n",
       "<style scoped>\n",
       "    .dataframe tbody tr th:only-of-type {\n",
       "        vertical-align: middle;\n",
       "    }\n",
       "\n",
       "    .dataframe tbody tr th {\n",
       "        vertical-align: top;\n",
       "    }\n",
       "\n",
       "    .dataframe thead th {\n",
       "        text-align: right;\n",
       "    }\n",
       "</style>\n",
       "<table border=\"1\" class=\"dataframe\">\n",
       "  <thead>\n",
       "    <tr style=\"text-align: right;\">\n",
       "      <th></th>\n",
       "      <th>Name</th>\n",
       "      <th>2012</th>\n",
       "      <th>2013</th>\n",
       "      <th>2014</th>\n",
       "      <th>2015</th>\n",
       "      <th>2016</th>\n",
       "      <th>2017</th>\n",
       "    </tr>\n",
       "  </thead>\n",
       "  <tbody>\n",
       "    <tr>\n",
       "      <th>0</th>\n",
       "      <td>A</td>\n",
       "      <td>40.27</td>\n",
       "      <td>42.17</td>\n",
       "      <td>57.10</td>\n",
       "      <td>41.18</td>\n",
       "      <td>41.06</td>\n",
       "      <td>45.93</td>\n",
       "    </tr>\n",
       "    <tr>\n",
       "      <th>2</th>\n",
       "      <td>AAP</td>\n",
       "      <td>68.51</td>\n",
       "      <td>73.49</td>\n",
       "      <td>110.36</td>\n",
       "      <td>160.85</td>\n",
       "      <td>149.25</td>\n",
       "      <td>170.78</td>\n",
       "    </tr>\n",
       "    <tr>\n",
       "      <th>3</th>\n",
       "      <td>AAPL</td>\n",
       "      <td>89.06</td>\n",
       "      <td>79.12</td>\n",
       "      <td>79.38</td>\n",
       "      <td>111.39</td>\n",
       "      <td>102.61</td>\n",
       "      <td>115.80</td>\n",
       "    </tr>\n",
       "    <tr>\n",
       "      <th>5</th>\n",
       "      <td>ABC</td>\n",
       "      <td>38.59</td>\n",
       "      <td>43.59</td>\n",
       "      <td>70.11</td>\n",
       "      <td>90.61</td>\n",
       "      <td>102.31</td>\n",
       "      <td>78.51</td>\n",
       "    </tr>\n",
       "    <tr>\n",
       "      <th>6</th>\n",
       "      <td>ABT</td>\n",
       "      <td>32.93</td>\n",
       "      <td>31.80</td>\n",
       "      <td>38.09</td>\n",
       "      <td>45.25</td>\n",
       "      <td>43.94</td>\n",
       "      <td>38.63</td>\n",
       "    </tr>\n",
       "  </tbody>\n",
       "</table>\n",
       "</div>"
      ],
      "text/plain": [
       "   Name   2012   2013    2014    2015    2016    2017\n",
       "0     A  40.27  42.17   57.10   41.18   41.06   45.93\n",
       "2   AAP  68.51  73.49  110.36  160.85  149.25  170.78\n",
       "3  AAPL  89.06  79.12   79.38  111.39  102.61  115.80\n",
       "5   ABC  38.59  43.59   70.11   90.61  102.31   78.51\n",
       "6   ABT  32.93  31.80   38.09   45.25   43.94   38.63"
      ]
     },
     "execution_count": 67,
     "metadata": {},
     "output_type": "execute_result"
    }
   ],
   "source": [
    "first_date_df = first_date_df.dropna(how='any',axis=0) \n",
    "first_date_df.head()"
   ]
  },
  {
   "cell_type": "code",
   "execution_count": 68,
   "metadata": {},
   "outputs": [
    {
     "data": {
      "text/html": [
       "<div>\n",
       "<style scoped>\n",
       "    .dataframe tbody tr th:only-of-type {\n",
       "        vertical-align: middle;\n",
       "    }\n",
       "\n",
       "    .dataframe tbody tr th {\n",
       "        vertical-align: top;\n",
       "    }\n",
       "\n",
       "    .dataframe thead th {\n",
       "        text-align: right;\n",
       "    }\n",
       "</style>\n",
       "<table border=\"1\" class=\"dataframe\">\n",
       "  <thead>\n",
       "    <tr style=\"text-align: right;\">\n",
       "      <th></th>\n",
       "      <th>Name</th>\n",
       "      <th>2012</th>\n",
       "      <th>2013</th>\n",
       "      <th>2014</th>\n",
       "      <th>2015</th>\n",
       "      <th>2016</th>\n",
       "      <th>2017</th>\n",
       "    </tr>\n",
       "  </thead>\n",
       "  <tbody>\n",
       "    <tr>\n",
       "      <th>0</th>\n",
       "      <td>A</td>\n",
       "      <td>40.94</td>\n",
       "      <td>57.19</td>\n",
       "      <td>40.94</td>\n",
       "      <td>41.81</td>\n",
       "      <td>45.56</td>\n",
       "      <td>59.33</td>\n",
       "    </tr>\n",
       "    <tr>\n",
       "      <th>2</th>\n",
       "      <td>AAP</td>\n",
       "      <td>72.35</td>\n",
       "      <td>110.68</td>\n",
       "      <td>159.28</td>\n",
       "      <td>150.51</td>\n",
       "      <td>169.12</td>\n",
       "      <td>107.34</td>\n",
       "    </tr>\n",
       "    <tr>\n",
       "      <th>3</th>\n",
       "      <td>AAPL</td>\n",
       "      <td>76.02</td>\n",
       "      <td>80.15</td>\n",
       "      <td>110.38</td>\n",
       "      <td>105.26</td>\n",
       "      <td>115.82</td>\n",
       "      <td>157.48</td>\n",
       "    </tr>\n",
       "    <tr>\n",
       "      <th>4</th>\n",
       "      <td>ABBV</td>\n",
       "      <td>34.16</td>\n",
       "      <td>52.81</td>\n",
       "      <td>65.44</td>\n",
       "      <td>59.24</td>\n",
       "      <td>62.62</td>\n",
       "      <td>70.63</td>\n",
       "    </tr>\n",
       "    <tr>\n",
       "      <th>5</th>\n",
       "      <td>ABC</td>\n",
       "      <td>43.18</td>\n",
       "      <td>70.31</td>\n",
       "      <td>90.16</td>\n",
       "      <td>103.71</td>\n",
       "      <td>78.19</td>\n",
       "      <td>80.02</td>\n",
       "    </tr>\n",
       "  </tbody>\n",
       "</table>\n",
       "</div>"
      ],
      "text/plain": [
       "   Name   2012    2013    2014    2015    2016    2017\n",
       "0     A  40.94   57.19   40.94   41.81   45.56   59.33\n",
       "2   AAP  72.35  110.68  159.28  150.51  169.12  107.34\n",
       "3  AAPL  76.02   80.15  110.38  105.26  115.82  157.48\n",
       "4  ABBV  34.16   52.81   65.44   59.24   62.62   70.63\n",
       "5   ABC  43.18   70.31   90.16  103.71   78.19   80.02"
      ]
     },
     "execution_count": 68,
     "metadata": {},
     "output_type": "execute_result"
    }
   ],
   "source": [
    "last_date_df = last_date_df.dropna(how='any',axis=0) \n",
    "last_date_df.head()"
   ]
  },
  {
   "cell_type": "code",
   "execution_count": 69,
   "metadata": {},
   "outputs": [],
   "source": [
    "agg_first_date_df = (\n",
    "    first_date_df\n",
    "    .melt(id_vars='Name', value_vars=[2012, 2013, 2014, 2015, 2016, 2017])\n",
    "    .rename(columns={\"variable\": \"year\", \"value\": \"open_first_day\"})\n",
    ")"
   ]
  },
  {
   "cell_type": "code",
   "execution_count": 70,
   "metadata": {},
   "outputs": [],
   "source": [
    "agg_last_date_df = (\n",
    "    last_date_df\n",
    "    .melt(id_vars='Name', value_vars=[2012, 2013, 2014, 2015, 2016, 2017])\n",
    "    .rename(columns={\"variable\": \"year\", \"value\": \"close_last_day\"})\n",
    ")"
   ]
  },
  {
   "cell_type": "code",
   "execution_count": 71,
   "metadata": {},
   "outputs": [],
   "source": [
    "# calculating yearly return and then averaging them to get average yearly returns for each stock\n",
    "agg_gains_df = (\n",
    "    agg_first_date_df\n",
    "    .merge(agg_last_date_df, on=['Name', 'year'], how='inner')\n",
    "    .pipe(lambda x: x.assign(gains_dollar=x.close_last_day-x.open_first_day))\n",
    "    .pipe(lambda x: x.assign(gains_pctg=x.gains_dollar/x.open_first_day))\n",
    "    .groupby(\"Name\")\n",
    "    .agg({\"gains_pctg\": \"mean\"})\n",
    "    .reset_index()\n",
    "    .rename(columns={\"gains_pctg\": \"avg_yearly_returns\"})\n",
    ")\n",
    "\n",
    "# calculating overall variance using each year's return\n",
    "agg_var_df = (\n",
    "    agg_first_date_df\n",
    "    .merge(agg_last_date_df, on=['Name', 'year'], how='inner')\n",
    "    .pipe(lambda x: x.assign(gains_dollar=x.close_last_day-x.open_first_day))\n",
    "    .pipe(lambda x: x.assign(gains_pctg=x.gains_dollar/x.open_first_day))\n",
    "    [['Name', 'gains_pctg']]\n",
    "    .groupby(\"Name\")\n",
    "    .agg(np.var)\n",
    "    .reset_index()\n",
    "    .rename(columns={\"gains_pctg\": \"yearly_variance\"})\n",
    ")\n",
    "\n",
    "agg_df = (\n",
    "    agg_gains_df\n",
    "    .merge(agg_var_df, on='Name', how='inner')\n",
    ")"
   ]
  },
  {
   "cell_type": "code",
   "execution_count": 72,
   "metadata": {},
   "outputs": [
    {
     "data": {
      "text/html": [
       "<div>\n",
       "<style scoped>\n",
       "    .dataframe tbody tr th:only-of-type {\n",
       "        vertical-align: middle;\n",
       "    }\n",
       "\n",
       "    .dataframe tbody tr th {\n",
       "        vertical-align: top;\n",
       "    }\n",
       "\n",
       "    .dataframe thead th {\n",
       "        text-align: right;\n",
       "    }\n",
       "</style>\n",
       "<table border=\"1\" class=\"dataframe\">\n",
       "  <thead>\n",
       "    <tr style=\"text-align: right;\">\n",
       "      <th></th>\n",
       "      <th>Name</th>\n",
       "      <th>avg_yearly_returns</th>\n",
       "      <th>yearly_variance</th>\n",
       "    </tr>\n",
       "  </thead>\n",
       "  <tbody>\n",
       "    <tr>\n",
       "      <th>0</th>\n",
       "      <td>A</td>\n",
       "      <td>0.084408</td>\n",
       "      <td>0.052370</td>\n",
       "    </tr>\n",
       "    <tr>\n",
       "      <th>1</th>\n",
       "      <td>AAP</td>\n",
       "      <td>0.117126</td>\n",
       "      <td>0.106653</td>\n",
       "    </tr>\n",
       "    <tr>\n",
       "      <th>2</th>\n",
       "      <td>AAPL</td>\n",
       "      <td>0.115128</td>\n",
       "      <td>0.048749</td>\n",
       "    </tr>\n",
       "    <tr>\n",
       "      <th>3</th>\n",
       "      <td>ABC</td>\n",
       "      <td>0.157660</td>\n",
       "      <td>0.079879</td>\n",
       "    </tr>\n",
       "    <tr>\n",
       "      <th>4</th>\n",
       "      <td>ABT</td>\n",
       "      <td>0.084164</td>\n",
       "      <td>0.022901</td>\n",
       "    </tr>\n",
       "  </tbody>\n",
       "</table>\n",
       "</div>"
      ],
      "text/plain": [
       "   Name  avg_yearly_returns  yearly_variance\n",
       "0     A            0.084408         0.052370\n",
       "1   AAP            0.117126         0.106653\n",
       "2  AAPL            0.115128         0.048749\n",
       "3   ABC            0.157660         0.079879\n",
       "4   ABT            0.084164         0.022901"
      ]
     },
     "execution_count": 72,
     "metadata": {},
     "output_type": "execute_result"
    }
   ],
   "source": [
    "agg_df.head()"
   ]
  },
  {
   "cell_type": "code",
   "execution_count": 73,
   "metadata": {},
   "outputs": [
    {
     "name": "stdout",
     "output_type": "stream",
     "text": [
      "<class 'pandas.core.frame.DataFrame'>\n",
      "Int64Index: 459 entries, 0 to 458\n",
      "Data columns (total 3 columns):\n",
      "Name                  459 non-null object\n",
      "avg_yearly_returns    459 non-null float64\n",
      "yearly_variance       459 non-null float64\n",
      "dtypes: float64(2), object(1)\n",
      "memory usage: 14.3+ KB\n"
     ]
    }
   ],
   "source": [
    "agg_df.info()"
   ]
  },
  {
   "cell_type": "markdown",
   "metadata": {},
   "source": [
    "# Modelling\n",
    "## Evaluation\n",
    "\n",
    "Typically, two metrics are used to evaluate a K-means model.\n",
    "\n",
    "1. Sum of square errors (SSE) within clusters\n",
    "2. Silhouette score.\n",
    "\n",
    "SSE within clusters is derived by summing up the squared distance between each data point and its closest centroid. The goal is to reduce the error value. The intuition behind this is that we would want the distance of each data point to be as close as possible to the centroid. If the error is small, it would mean that the data points in the same cluster are relatively similar. As the number of centroids (clusters) increase, the error value will decrease. As such we would need to rely on the next metric to ensure that we are not introducing too many centroids (clusters) in the model.\n",
    "\n",
    "Silhouette score is a measure of how similar the data point is to its own cluster compared to other clusters. The value ranges from -1 (worst score) to 1 (best score). A negative value would mean that data points are wrongly clustered while values near 0 would mean that there are overlapping clusters.\n",
    "\n",
    "Source: [HERE](https://pdfs.semanticscholar.org/8785/b45c92622ebbbffee055aec198190c621b00.pdf)"
   ]
  },
  {
   "cell_type": "code",
   "execution_count": 74,
   "metadata": {},
   "outputs": [],
   "source": [
    "from sklearn.preprocessing import RobustScaler\n",
    "from sklearn.cluster import KMeans\n",
    "from sklearn import metrics"
   ]
  },
  {
   "cell_type": "code",
   "execution_count": 75,
   "metadata": {},
   "outputs": [],
   "source": [
    "def plot_cluster(df, max_loop=50):\n",
    "    try:\n",
    "        df.drop('cluster', axis=1, inplace=True)\n",
    "    except:\n",
    "        next\n",
    "    X = df.iloc[:,1:]\n",
    "    \n",
    "    # robust scaling is used so that the centering and scaling statistics are therefore not influenced by a few number of very large marginal outliers as they are based on percentiles\n",
    "    rb = RobustScaler()\n",
    "    X_rb = rb.fit_transform(X)\n",
    "    \n",
    "    sse_within_cluster = {}\n",
    "    silhouette_score = {}\n",
    "    \n",
    "    for k in range(2, max_loop):\n",
    "        kmeans = KMeans(n_clusters=k,  random_state=10, n_init=10, n_jobs=-1)\n",
    "        kmeans.fit(X_rb)\n",
    "        sse_within_cluster[k] = kmeans.inertia_\n",
    "        silhouette_score[k] = metrics.silhouette_score(X_rb, kmeans.labels_, random_state=10)\n",
    "\n",
    "    _ = plt.figure(figsize=(10,6))\n",
    "    ax1 = plt.subplot(211)\n",
    "    _ = plt.plot(list(sse_within_cluster.keys()), list(sse_within_cluster.values()))\n",
    "    _ = plt.xlabel(\"Number of Clusters\")\n",
    "    _ = plt.ylabel(\"SSE Within Cluster\")\n",
    "    _ = plt.title(\"Within Cluster SSE After K-Means Clustering\")\n",
    "    _ = plt.xticks([i for i in range(2, max_loop)], rotation=75)\n",
    "    \n",
    "    ax2 = plt.subplot(212)\n",
    "    _ = plt.plot(list(silhouette_score.keys()), list(silhouette_score.values()))\n",
    "    _ = plt.xlabel(\"Number of Clusters\")\n",
    "    _ = plt.ylabel(\"Silhouette Score\")\n",
    "    _ = plt.title(\"Silhouette Score After K-Means Clustering\")\n",
    "    _ = plt.xticks([i for i in range(2, max_loop)], rotation=75)\n",
    "    \n",
    "    plt.subplots_adjust(top=0.92, bottom=0.08, left=0.10, right=0.95, hspace=0.5, wspace=0.35)"
   ]
  },
  {
   "cell_type": "code",
   "execution_count": 76,
   "metadata": {},
   "outputs": [
    {
     "data": {
      "image/png": "[encoded data removed]",
      "text/plain": [
       "<Figure size 720x432 with 2 Axes>"
      ]
     },
     "metadata": {
      "needs_background": "light"
     },
     "output_type": "display_data"
    }
   ],
   "source": [
    "plot_cluster(agg_df, max_loop=50)"
   ]
  },
  {
   "cell_type": "markdown",
   "metadata": {},
   "source": [
    ">From the first graph, ' Within Cluster SSE After K-Means Clustering ', we can see that as the number of clusters increase pass 50, the sum of square of errors within clusters plateaus off. From the second graph, ' Silhouette Score After K-Means Clustering ', we can see that there are various parts of the graph where a kink can be seen. Since there is not much a difference in SSE after 10 clusters and that the drop in sihouette score is quite significant between 2 clusters and 4 clusters, we will use 2 clusters in my K-Means model below."
   ]
  },
  {
   "cell_type": "code",
   "execution_count": 77,
   "metadata": {},
   "outputs": [],
   "source": [
    "def apply_cluster(df, clusters=2):\n",
    "    try:\n",
    "        df.drop('cluster', axis=1, inplace=True)\n",
    "    except:\n",
    "        next\n",
    "    X = df.iloc[:,1:]\n",
    "    rb = RobustScaler()\n",
    "    X_rb = rb.fit_transform(X)\n",
    "    kmeans = KMeans(n_clusters=clusters, random_state=10, n_init=10, n_jobs=-1)  \n",
    "    kmeans.fit(X_rb) \n",
    "    score = metrics.silhouette_score(X_rb, kmeans.labels_, random_state=10)\n",
    "    df['cluster'] = kmeans.labels_\n",
    "    sse_within_cluster = kmeans.inertia_\n",
    "    \n",
    "    print(\"clustering performance:\")\n",
    "    print(\"silhouette score: \" + str(score.round(2)))\n",
    "    print(\"sse withing cluster: \" + str(sse_within_cluster.round()))\n",
    "    \n",
    "    return df"
   ]
  },
  {
   "cell_type": "code",
   "execution_count": 78,
   "metadata": {},
   "outputs": [
    {
     "name": "stdout",
     "output_type": "stream",
     "text": [
      "clustering performance:\n",
      "silhouette score: 0.9\n",
      "sse withing cluster: 969.0\n"
     ]
    }
   ],
   "source": [
    "first_trial = apply_cluster(agg_df, clusters=2)"
   ]
  },
  {
   "cell_type": "code",
   "execution_count": 79,
   "metadata": {},
   "outputs": [
    {
     "data": {
      "text/html": [
       "<div>\n",
       "<style scoped>\n",
       "    .dataframe tbody tr th:only-of-type {\n",
       "        vertical-align: middle;\n",
       "    }\n",
       "\n",
       "    .dataframe tbody tr th {\n",
       "        vertical-align: top;\n",
       "    }\n",
       "\n",
       "    .dataframe thead th {\n",
       "        text-align: right;\n",
       "    }\n",
       "</style>\n",
       "<table border=\"1\" class=\"dataframe\">\n",
       "  <thead>\n",
       "    <tr style=\"text-align: right;\">\n",
       "      <th></th>\n",
       "      <th>Name</th>\n",
       "      <th>avg_yearly_returns</th>\n",
       "      <th>yearly_variance</th>\n",
       "      <th>cluster</th>\n",
       "    </tr>\n",
       "  </thead>\n",
       "  <tbody>\n",
       "    <tr>\n",
       "      <th>0</th>\n",
       "      <td>A</td>\n",
       "      <td>0.084408</td>\n",
       "      <td>0.052370</td>\n",
       "      <td>0</td>\n",
       "    </tr>\n",
       "    <tr>\n",
       "      <th>1</th>\n",
       "      <td>AAP</td>\n",
       "      <td>0.117126</td>\n",
       "      <td>0.106653</td>\n",
       "      <td>0</td>\n",
       "    </tr>\n",
       "    <tr>\n",
       "      <th>2</th>\n",
       "      <td>AAPL</td>\n",
       "      <td>0.115128</td>\n",
       "      <td>0.048749</td>\n",
       "      <td>0</td>\n",
       "    </tr>\n",
       "    <tr>\n",
       "      <th>3</th>\n",
       "      <td>ABC</td>\n",
       "      <td>0.157660</td>\n",
       "      <td>0.079879</td>\n",
       "      <td>0</td>\n",
       "    </tr>\n",
       "    <tr>\n",
       "      <th>4</th>\n",
       "      <td>ABT</td>\n",
       "      <td>0.084164</td>\n",
       "      <td>0.022901</td>\n",
       "      <td>0</td>\n",
       "    </tr>\n",
       "  </tbody>\n",
       "</table>\n",
       "</div>"
      ],
      "text/plain": [
       "   Name  avg_yearly_returns  yearly_variance  cluster\n",
       "0     A            0.084408         0.052370        0\n",
       "1   AAP            0.117126         0.106653        0\n",
       "2  AAPL            0.115128         0.048749        0\n",
       "3   ABC            0.157660         0.079879        0\n",
       "4   ABT            0.084164         0.022901        0"
      ]
     },
     "execution_count": 79,
     "metadata": {},
     "output_type": "execute_result"
    }
   ],
   "source": [
    "first_trial.head()"
   ]
  },
  {
   "cell_type": "code",
   "execution_count": 80,
   "metadata": {},
   "outputs": [
    {
     "data": {
      "text/html": [
       "<div>\n",
       "<style scoped>\n",
       "    .dataframe tbody tr th:only-of-type {\n",
       "        vertical-align: middle;\n",
       "    }\n",
       "\n",
       "    .dataframe tbody tr th {\n",
       "        vertical-align: top;\n",
       "    }\n",
       "\n",
       "    .dataframe thead th {\n",
       "        text-align: right;\n",
       "    }\n",
       "</style>\n",
       "<table border=\"1\" class=\"dataframe\">\n",
       "  <thead>\n",
       "    <tr style=\"text-align: right;\">\n",
       "      <th></th>\n",
       "      <th>cluster</th>\n",
       "      <th>avg_yearly_returns</th>\n",
       "      <th>yearly_variance</th>\n",
       "      <th>Name</th>\n",
       "    </tr>\n",
       "  </thead>\n",
       "  <tbody>\n",
       "    <tr>\n",
       "      <th>0</th>\n",
       "      <td>0</td>\n",
       "      <td>0.117425</td>\n",
       "      <td>0.058381</td>\n",
       "      <td>454</td>\n",
       "    </tr>\n",
       "    <tr>\n",
       "      <th>1</th>\n",
       "      <td>1</td>\n",
       "      <td>0.586210</td>\n",
       "      <td>0.892767</td>\n",
       "      <td>5</td>\n",
       "    </tr>\n",
       "  </tbody>\n",
       "</table>\n",
       "</div>"
      ],
      "text/plain": [
       "   cluster  avg_yearly_returns  yearly_variance  Name\n",
       "0        0            0.117425         0.058381   454\n",
       "1        1            0.586210         0.892767     5"
      ]
     },
     "execution_count": 80,
     "metadata": {},
     "output_type": "execute_result"
    }
   ],
   "source": [
    "cluster_perf_df = (\n",
    "    first_trial\n",
    "    .groupby('cluster')\n",
    "    .agg({\"avg_yearly_returns\":\"mean\", \"yearly_variance\":\"mean\", \"Name\":\"count\"})\n",
    "    .sort_values('avg_yearly_returns')\n",
    "    .reset_index()\n",
    ")\n",
    "\n",
    "cluster_perf_df"
   ]
  },
  {
   "cell_type": "markdown",
   "metadata": {},
   "source": [
    ">From the dataframe above, we can see that the distribution of the stocks amongst the clusters is very skewed. Most of the stocks are aggregated in cluster 0. For the cluster 1, we can see that the avg_yearly_returns and variance are huge. As cluster 0 still contains too many stocks to choose from, we will attempt to conduct another K-Means clustering on cluster 0."
   ]
  },
  {
   "cell_type": "code",
   "execution_count": 81,
   "metadata": {},
   "outputs": [],
   "source": [
    "# creating a dataframe that only consists of cluster `0`\n",
    "agg_df2 = agg_df.query(\"cluster == 0\").reset_index(drop=True)"
   ]
  },
  {
   "cell_type": "code",
   "execution_count": 82,
   "metadata": {},
   "outputs": [
    {
     "data": {
      "image/png": "[encoded data removed]",
      "text/plain": [
       "<Figure size 720x432 with 2 Axes>"
      ]
     },
     "metadata": {
      "needs_background": "light"
     },
     "output_type": "display_data"
    }
   ],
   "source": [
    "plot_cluster(agg_df2, max_loop=50)"
   ]
  },
  {
   "cell_type": "markdown",
   "metadata": {},
   "source": [
    ">From the second graph,' Silhouette Score After K-Means Clustering ', we can see that there was a steep drop in silhouette score between 2 clusters and 3 clusters. As such, we will use 2 clusters in my K-Means model below."
   ]
  },
  {
   "cell_type": "code",
   "execution_count": 83,
   "metadata": {},
   "outputs": [
    {
     "name": "stdout",
     "output_type": "stream",
     "text": [
      "clustering performance:\n",
      "silhouette score: 0.58\n",
      "sse withing cluster: 543.0\n"
     ]
    }
   ],
   "source": [
    "second_trial= apply_cluster(agg_df2, clusters=2)"
   ]
  },
  {
   "cell_type": "code",
   "execution_count": 84,
   "metadata": {},
   "outputs": [
    {
     "data": {
      "text/html": [
       "<div>\n",
       "<style scoped>\n",
       "    .dataframe tbody tr th:only-of-type {\n",
       "        vertical-align: middle;\n",
       "    }\n",
       "\n",
       "    .dataframe tbody tr th {\n",
       "        vertical-align: top;\n",
       "    }\n",
       "\n",
       "    .dataframe thead th {\n",
       "        text-align: right;\n",
       "    }\n",
       "</style>\n",
       "<table border=\"1\" class=\"dataframe\">\n",
       "  <thead>\n",
       "    <tr style=\"text-align: right;\">\n",
       "      <th></th>\n",
       "      <th>cluster</th>\n",
       "      <th>avg_yearly_returns</th>\n",
       "      <th>yearly_variance</th>\n",
       "      <th>Name</th>\n",
       "    </tr>\n",
       "  </thead>\n",
       "  <tbody>\n",
       "    <tr>\n",
       "      <th>0</th>\n",
       "      <td>1</td>\n",
       "      <td>0.105493</td>\n",
       "      <td>0.040929</td>\n",
       "      <td>396</td>\n",
       "    </tr>\n",
       "    <tr>\n",
       "      <th>1</th>\n",
       "      <td>0</td>\n",
       "      <td>0.198891</td>\n",
       "      <td>0.177536</td>\n",
       "      <td>58</td>\n",
       "    </tr>\n",
       "  </tbody>\n",
       "</table>\n",
       "</div>"
      ],
      "text/plain": [
       "   cluster  avg_yearly_returns  yearly_variance  Name\n",
       "0        1            0.105493         0.040929   396\n",
       "1        0            0.198891         0.177536    58"
      ]
     },
     "execution_count": 84,
     "metadata": {},
     "output_type": "execute_result"
    }
   ],
   "source": [
    "cluster_perf_df2 = (\n",
    "    second_trial\n",
    "    .groupby('cluster')\n",
    "    .agg({\"avg_yearly_returns\":\"mean\", \"yearly_variance\":\"mean\", \"Name\":\"count\"})\n",
    "    .sort_values('avg_yearly_returns')\n",
    "    .reset_index()\n",
    ")\n",
    "\n",
    "cluster_perf_df2"
   ]
  },
  {
   "cell_type": "markdown",
   "metadata": {},
   "source": [
    ">From the dataframe above, we can see that cluster 1 has a good average yearly returns, with low variance compared to cluster 0, but cluster 1 still has too many stocks to choose from.\n",
    ">Hence, we will use the Sharpe Ratio to determine which of the clusters is better performing"
   ]
  },
  {
   "cell_type": "markdown",
   "metadata": {},
   "source": [
    "## What is Sharpe Ratio?\n",
    "\n",
    "Sharpe Ratio is used to help investors understand the return of an investment compared to its risk. The ratio is the average return earned in excess of the risk-free rate per unit of volatility or total risk. It is derived using annual returns, variance and risk-free rate. A Sharpe Ratio of more than 1 is considered good while a Sharpe Ratio of more than 2 is considered very good.\n",
    "\n",
    "## How to compute Sharpe Ratio?\n",
    "\n",
    "Sharpe Ratio can be computed as such:\n",
    "\n",
    "$Sharpe\\ Ratio = (R_s - R_f) /{SD_s}$\n",
    "\n",
    "We will be using the first day of the year, 5-years daily U.S. yield rates, from [HERE](https://home.treasury.gov/) as the risk-free rate\n",
    "\n",
    "Source: [HERE](https://www.investopedia.com/terms/s/sharperatio.asp)"
   ]
  },
  {
   "cell_type": "code",
   "execution_count": 85,
   "metadata": {},
   "outputs": [],
   "source": [
    "# calculating the average risk free rate over the time period of 2012 - 2017\n",
    "us_yield_curve_5years_dict = {\"year\": [2012, 2013, 2014, 2015, 2016, 2017],\n",
    "                         \"risk_free_rate\": [0.89, 0.76, 1.72, 1.61, 1.73, 1.94]}\n",
    "us_yield_curve_5years_df = pd.DataFrame.from_dict(us_yield_curve_5years_dict)\n",
    "\n",
    "avg_risk_free_rate = (\n",
    "    us_yield_curve_5years_df\n",
    "    .mean()\n",
    "    [['risk_free_rate']]\n",
    "    [0]\n",
    ")\n"
   ]
  },
  {
   "cell_type": "code",
   "execution_count": 86,
   "metadata": {},
   "outputs": [],
   "source": [
    "def get_sharpe_ratio_df(df):\n",
    "    \"\"\"\n",
    "    Computing Sharpe Ratio\n",
    "    \"\"\"\n",
    "    df_w_sharpe_ratio = (\n",
    "        df\n",
    "        .pipe(lambda x: x.assign(avg_risk_free_rate=avg_risk_free_rate/100))\n",
    "        .pipe(lambda x: x.assign(std_dev=np.sqrt(x.yearly_variance)))\n",
    "        .pipe(lambda x: x.assign(sharpe_ratio=(x.avg_yearly_returns-x.avg_risk_free_rate)/x.std_dev))\n",
    "    )\n",
    "\n",
    "    return df_w_sharpe_ratio"
   ]
  },
  {
   "cell_type": "code",
   "execution_count": 87,
   "metadata": {},
   "outputs": [],
   "source": [
    "second_trial_with_sharpe_ratio = get_sharpe_ratio_df(second_trial)"
   ]
  },
  {
   "cell_type": "code",
   "execution_count": 88,
   "metadata": {},
   "outputs": [],
   "source": [
    "#Transforming dataframe so that I can plot a boxplot of `Returns`, `Variance` and `Sharpe Ratio` for each cluster\n",
    "def get_transform_df(df_w_sharpe_ratio):\n",
    "    df_yearly_returns = (\n",
    "        df_w_sharpe_ratio\n",
    "        [['avg_yearly_returns', 'cluster']]\n",
    "        .pipe(lambda x: x.assign(type='avg_yearly_returns'))\n",
    "        .rename(columns={\"avg_yearly_returns\": \"rate\"})\n",
    "    )\n",
    "\n",
    "    df_variance = (\n",
    "        df_w_sharpe_ratio\n",
    "        [['yearly_variance', 'cluster']]\n",
    "        .pipe(lambda x: x.assign(type='yearly_variance'))\n",
    "        .rename(columns={\"yearly_variance\": \"rate\"})\n",
    "    )\n",
    "\n",
    "    df_sharpe_ratio = (\n",
    "        df_w_sharpe_ratio\n",
    "        [['sharpe_ratio', 'cluster']]\n",
    "    )\n",
    "\n",
    "    df_transform = pd.concat([df_yearly_returns, df_variance], axis=0)\n",
    "\n",
    "    return df_transform, df_sharpe_ratio"
   ]
  },
  {
   "cell_type": "code",
   "execution_count": 89,
   "metadata": {},
   "outputs": [],
   "source": [
    "cluster2_transform, cluster2_sharpe_ratio = get_transform_df(second_trial_with_sharpe_ratio)"
   ]
  },
  {
   "cell_type": "code",
   "execution_count": 90,
   "metadata": {},
   "outputs": [],
   "source": [
    "#Plotting boxplot of cluster performance\n",
    "def cluster_perf(transform_df, sharpe_ratio_df):\n",
    "    _  = plt.figure(figsize=(15,7))\n",
    "\n",
    "    ax1 = plt.subplot(121)\n",
    "    _ = sns.boxplot(x='cluster', y='rate', hue='type', data=transform_df)\n",
    "    _ = plt.title(\"Distribution of Returns and Variance for each Cluster\")\n",
    "\n",
    "    ax2 = plt.subplot(122)\n",
    "    _ =sns.boxplot(x='cluster', y='sharpe_ratio', data=sharpe_ratio_df, color='royalblue')\n",
    "    _ = plt.title(\"Distribution of Sharpe Ratio for each Cluster\")"
   ]
  },
  {
   "cell_type": "code",
   "execution_count": 91,
   "metadata": {},
   "outputs": [
    {
     "data": {
      "image/png": "[encoded data removed]",
      "text/plain": [
       "<Figure size 1080x504 with 2 Axes>"
      ]
     },
     "metadata": {
      "needs_background": "light"
     },
     "output_type": "display_data"
    }
   ],
   "source": [
    "cluster_perf(cluster2_transform, cluster2_sharpe_ratio)"
   ]
  },
  {
   "cell_type": "markdown",
   "metadata": {},
   "source": [
    ">Given that cluster 1 has the best Sharpe Ratio, we will perform one final trial using it."
   ]
  },
  {
   "cell_type": "code",
   "execution_count": 92,
   "metadata": {},
   "outputs": [
    {
     "data": {
      "text/html": [
       "<div>\n",
       "<style scoped>\n",
       "    .dataframe tbody tr th:only-of-type {\n",
       "        vertical-align: middle;\n",
       "    }\n",
       "\n",
       "    .dataframe tbody tr th {\n",
       "        vertical-align: top;\n",
       "    }\n",
       "\n",
       "    .dataframe thead th {\n",
       "        text-align: right;\n",
       "    }\n",
       "</style>\n",
       "<table border=\"1\" class=\"dataframe\">\n",
       "  <thead>\n",
       "    <tr style=\"text-align: right;\">\n",
       "      <th></th>\n",
       "      <th>cluster</th>\n",
       "      <th>avg_yearly_returns</th>\n",
       "      <th>yearly_variance</th>\n",
       "      <th>sharpe_ratio</th>\n",
       "      <th>Name</th>\n",
       "    </tr>\n",
       "  </thead>\n",
       "  <tbody>\n",
       "    <tr>\n",
       "      <th>0</th>\n",
       "      <td>0</td>\n",
       "      <td>0.198891</td>\n",
       "      <td>0.177536</td>\n",
       "      <td>0.474873</td>\n",
       "      <td>58</td>\n",
       "    </tr>\n",
       "    <tr>\n",
       "      <th>1</th>\n",
       "      <td>1</td>\n",
       "      <td>0.105493</td>\n",
       "      <td>0.040929</td>\n",
       "      <td>0.555353</td>\n",
       "      <td>396</td>\n",
       "    </tr>\n",
       "  </tbody>\n",
       "</table>\n",
       "</div>"
      ],
      "text/plain": [
       "   cluster  avg_yearly_returns  yearly_variance  sharpe_ratio  Name\n",
       "0        0            0.198891         0.177536      0.474873    58\n",
       "1        1            0.105493         0.040929      0.555353   396"
      ]
     },
     "execution_count": 92,
     "metadata": {},
     "output_type": "execute_result"
    }
   ],
   "source": [
    "(\n",
    "    second_trial_with_sharpe_ratio\n",
    "    .groupby(\"cluster\")\n",
    "    .agg({\"avg_yearly_returns\": \"mean\", \"yearly_variance\": \"mean\", \"sharpe_ratio\": \"mean\", \"Name\": \"count\"})\n",
    "    .reset_index()\n",
    ")"
   ]
  },
  {
   "cell_type": "code",
   "execution_count": 93,
   "metadata": {},
   "outputs": [],
   "source": [
    "best_sub_cluster = second_trial.query(\"cluster == 1\")"
   ]
  },
  {
   "cell_type": "code",
   "execution_count": 94,
   "metadata": {},
   "outputs": [
    {
     "name": "stderr",
     "output_type": "stream",
     "text": [
      "/anaconda3/lib/python3.7/site-packages/pandas/core/frame.py:3940: SettingWithCopyWarning: \n",
      "A value is trying to be set on a copy of a slice from a DataFrame\n",
      "\n",
      "See the caveats in the documentation: http://pandas.pydata.org/pandas-docs/stable/indexing.html#indexing-view-versus-copy\n",
      "  errors=errors)\n"
     ]
    },
    {
     "data": {
      "image/png": "[encoded data removed]",
      "text/plain": [
       "<Figure size 720x432 with 2 Axes>"
      ]
     },
     "metadata": {
      "needs_background": "light"
     },
     "output_type": "display_data"
    }
   ],
   "source": [
    "plot_cluster(best_sub_cluster, max_loop = 50)"
   ]
  },
  {
   "cell_type": "markdown",
   "metadata": {},
   "source": [
    ">As both the curves have steep slopes between clusters 5 and 7, we will use 5 clusters for the third trial."
   ]
  },
  {
   "cell_type": "code",
   "execution_count": 95,
   "metadata": {},
   "outputs": [
    {
     "name": "stdout",
     "output_type": "stream",
     "text": [
      "clustering performance:\n",
      "silhouette score: 0.4\n",
      "sse withing cluster: 113.0\n"
     ]
    },
    {
     "name": "stderr",
     "output_type": "stream",
     "text": [
      "/anaconda3/lib/python3.7/site-packages/ipykernel_launcher.py:12: SettingWithCopyWarning: \n",
      "A value is trying to be set on a copy of a slice from a DataFrame.\n",
      "Try using .loc[row_indexer,col_indexer] = value instead\n",
      "\n",
      "See the caveats in the documentation: http://pandas.pydata.org/pandas-docs/stable/indexing.html#indexing-view-versus-copy\n",
      "  if sys.path[0] == '':\n"
     ]
    }
   ],
   "source": [
    "third_trial = apply_cluster(best_sub_cluster, 5)"
   ]
  },
  {
   "cell_type": "code",
   "execution_count": 96,
   "metadata": {},
   "outputs": [
    {
     "data": {
      "text/html": [
       "<div>\n",
       "<style scoped>\n",
       "    .dataframe tbody tr th:only-of-type {\n",
       "        vertical-align: middle;\n",
       "    }\n",
       "\n",
       "    .dataframe tbody tr th {\n",
       "        vertical-align: top;\n",
       "    }\n",
       "\n",
       "    .dataframe thead th {\n",
       "        text-align: right;\n",
       "    }\n",
       "</style>\n",
       "<table border=\"1\" class=\"dataframe\">\n",
       "  <thead>\n",
       "    <tr style=\"text-align: right;\">\n",
       "      <th></th>\n",
       "      <th>cluster</th>\n",
       "      <th>avg_yearly_returns</th>\n",
       "      <th>yearly_variance</th>\n",
       "      <th>Name</th>\n",
       "    </tr>\n",
       "  </thead>\n",
       "  <tbody>\n",
       "    <tr>\n",
       "      <th>0</th>\n",
       "      <td>0</td>\n",
       "      <td>-0.013816</td>\n",
       "      <td>0.110303</td>\n",
       "      <td>20</td>\n",
       "    </tr>\n",
       "    <tr>\n",
       "      <th>1</th>\n",
       "      <td>3</td>\n",
       "      <td>0.006302</td>\n",
       "      <td>0.038309</td>\n",
       "      <td>72</td>\n",
       "    </tr>\n",
       "    <tr>\n",
       "      <th>2</th>\n",
       "      <td>1</td>\n",
       "      <td>0.108105</td>\n",
       "      <td>0.020300</td>\n",
       "      <td>162</td>\n",
       "    </tr>\n",
       "    <tr>\n",
       "      <th>3</th>\n",
       "      <td>2</td>\n",
       "      <td>0.120187</td>\n",
       "      <td>0.073295</td>\n",
       "      <td>65</td>\n",
       "    </tr>\n",
       "    <tr>\n",
       "      <th>4</th>\n",
       "      <td>4</td>\n",
       "      <td>0.211332</td>\n",
       "      <td>0.041437</td>\n",
       "      <td>77</td>\n",
       "    </tr>\n",
       "  </tbody>\n",
       "</table>\n",
       "</div>"
      ],
      "text/plain": [
       "   cluster  avg_yearly_returns  yearly_variance  Name\n",
       "0        0           -0.013816         0.110303    20\n",
       "1        3            0.006302         0.038309    72\n",
       "2        1            0.108105         0.020300   162\n",
       "3        2            0.120187         0.073295    65\n",
       "4        4            0.211332         0.041437    77"
      ]
     },
     "execution_count": 96,
     "metadata": {},
     "output_type": "execute_result"
    }
   ],
   "source": [
    "best_sub_cluster_perf = (    \n",
    "    third_trial\n",
    "    .groupby('cluster')\n",
    "    .agg({\"avg_yearly_returns\":\"mean\", \"yearly_variance\":\"mean\", \"Name\":\"count\"})\n",
    "    .sort_values('avg_yearly_returns')\n",
    "    .reset_index()\n",
    ")\n",
    "best_sub_cluster_perf"
   ]
  },
  {
   "cell_type": "code",
   "execution_count": 97,
   "metadata": {},
   "outputs": [
    {
     "data": {
      "image/png": "[encoded data removed]",
      "text/plain": [
       "<Figure size 1080x504 with 2 Axes>"
      ]
     },
     "metadata": {
      "needs_background": "light"
     },
     "output_type": "display_data"
    }
   ],
   "source": [
    "third_trial_w_sharpe_ratio = get_sharpe_ratio_df(third_trial)\n",
    "best_sub_cluster_transform, best_sub_cluster_sharpe_ratio = get_transform_df(third_trial_w_sharpe_ratio)\n",
    "cluster_perf(best_sub_cluster_transform, best_sub_cluster_sharpe_ratio)"
   ]
  },
  {
   "cell_type": "code",
   "execution_count": 98,
   "metadata": {},
   "outputs": [
    {
     "data": {
      "text/html": [
       "<div>\n",
       "<style scoped>\n",
       "    .dataframe tbody tr th:only-of-type {\n",
       "        vertical-align: middle;\n",
       "    }\n",
       "\n",
       "    .dataframe tbody tr th {\n",
       "        vertical-align: top;\n",
       "    }\n",
       "\n",
       "    .dataframe thead th {\n",
       "        text-align: right;\n",
       "    }\n",
       "</style>\n",
       "<table border=\"1\" class=\"dataframe\">\n",
       "  <thead>\n",
       "    <tr style=\"text-align: right;\">\n",
       "      <th></th>\n",
       "      <th>cluster</th>\n",
       "      <th>avg_yearly_returns</th>\n",
       "      <th>yearly_variance</th>\n",
       "      <th>sharpe_ratio</th>\n",
       "      <th>Name</th>\n",
       "    </tr>\n",
       "  </thead>\n",
       "  <tbody>\n",
       "    <tr>\n",
       "      <th>0</th>\n",
       "      <td>0</td>\n",
       "      <td>-0.013816</td>\n",
       "      <td>0.110303</td>\n",
       "      <td>-0.089245</td>\n",
       "      <td>20</td>\n",
       "    </tr>\n",
       "    <tr>\n",
       "      <th>1</th>\n",
       "      <td>1</td>\n",
       "      <td>0.108105</td>\n",
       "      <td>0.020300</td>\n",
       "      <td>0.729276</td>\n",
       "      <td>162</td>\n",
       "    </tr>\n",
       "    <tr>\n",
       "      <th>2</th>\n",
       "      <td>2</td>\n",
       "      <td>0.120187</td>\n",
       "      <td>0.073295</td>\n",
       "      <td>0.391937</td>\n",
       "      <td>65</td>\n",
       "    </tr>\n",
       "    <tr>\n",
       "      <th>3</th>\n",
       "      <td>3</td>\n",
       "      <td>0.006302</td>\n",
       "      <td>0.038309</td>\n",
       "      <td>-0.044052</td>\n",
       "      <td>72</td>\n",
       "    </tr>\n",
       "    <tr>\n",
       "      <th>4</th>\n",
       "      <td>4</td>\n",
       "      <td>0.211332</td>\n",
       "      <td>0.041437</td>\n",
       "      <td>1.055296</td>\n",
       "      <td>77</td>\n",
       "    </tr>\n",
       "  </tbody>\n",
       "</table>\n",
       "</div>"
      ],
      "text/plain": [
       "   cluster  avg_yearly_returns  yearly_variance  sharpe_ratio  Name\n",
       "0        0           -0.013816         0.110303     -0.089245    20\n",
       "1        1            0.108105         0.020300      0.729276   162\n",
       "2        2            0.120187         0.073295      0.391937    65\n",
       "3        3            0.006302         0.038309     -0.044052    72\n",
       "4        4            0.211332         0.041437      1.055296    77"
      ]
     },
     "execution_count": 98,
     "metadata": {},
     "output_type": "execute_result"
    }
   ],
   "source": [
    "(\n",
    "    third_trial_w_sharpe_ratio\n",
    "    .groupby('cluster')\n",
    "    .agg({\"avg_yearly_returns\": \"mean\", \"yearly_variance\": \"mean\", \"sharpe_ratio\": \"mean\", \"Name\": \"count\"})\n",
    "    .reset_index()\n",
    ")"
   ]
  },
  {
   "cell_type": "code",
   "execution_count": 99,
   "metadata": {},
   "outputs": [
    {
     "name": "stdout",
     "output_type": "stream",
     "text": [
      "Below is the list of Stocks CLassifies as Best.\n",
      "These can be invested in as they have the best average yearly returns and sharpe ration, \n",
      "with better than average yearly variance.\n"
     ]
    },
    {
     "data": {
      "text/html": [
       "<div>\n",
       "<style scoped>\n",
       "    .dataframe tbody tr th:only-of-type {\n",
       "        vertical-align: middle;\n",
       "    }\n",
       "\n",
       "    .dataframe tbody tr th {\n",
       "        vertical-align: top;\n",
       "    }\n",
       "\n",
       "    .dataframe thead th {\n",
       "        text-align: right;\n",
       "    }\n",
       "</style>\n",
       "<table border=\"1\" class=\"dataframe\">\n",
       "  <thead>\n",
       "    <tr style=\"text-align: right;\">\n",
       "      <th></th>\n",
       "      <th>Name</th>\n",
       "      <th>avg_yearly_returns</th>\n",
       "      <th>yearly_variance</th>\n",
       "      <th>cluster</th>\n",
       "    </tr>\n",
       "  </thead>\n",
       "  <tbody>\n",
       "    <tr>\n",
       "      <th>24</th>\n",
       "      <td>ALK</td>\n",
       "      <td>0.327026</td>\n",
       "      <td>0.079012</td>\n",
       "      <td>4</td>\n",
       "    </tr>\n",
       "    <tr>\n",
       "      <th>6</th>\n",
       "      <td>ADBE</td>\n",
       "      <td>0.300046</td>\n",
       "      <td>0.029507</td>\n",
       "      <td>4</td>\n",
       "    </tr>\n",
       "    <tr>\n",
       "      <th>259</th>\n",
       "      <td>LRCX</td>\n",
       "      <td>0.292821</td>\n",
       "      <td>0.050987</td>\n",
       "      <td>4</td>\n",
       "    </tr>\n",
       "    <tr>\n",
       "      <th>189</th>\n",
       "      <td>GPN</td>\n",
       "      <td>0.289269</td>\n",
       "      <td>0.038747</td>\n",
       "      <td>4</td>\n",
       "    </tr>\n",
       "    <tr>\n",
       "      <th>36</th>\n",
       "      <td>AOS</td>\n",
       "      <td>0.281011</td>\n",
       "      <td>0.048613</td>\n",
       "      <td>4</td>\n",
       "    </tr>\n",
       "  </tbody>\n",
       "</table>\n",
       "</div>"
      ],
      "text/plain": [
       "     Name  avg_yearly_returns  yearly_variance  cluster\n",
       "24    ALK            0.327026         0.079012        4\n",
       "6    ADBE            0.300046         0.029507        4\n",
       "259  LRCX            0.292821         0.050987        4\n",
       "189   GPN            0.289269         0.038747        4\n",
       "36    AOS            0.281011         0.048613        4"
      ]
     },
     "execution_count": 99,
     "metadata": {},
     "output_type": "execute_result"
    }
   ],
   "source": [
    "print(\"Below is the list of Stocks CLassifies as Best.\\nThese can be invested in as they have the best average yearly returns and sharpe ration, \\nwith better than average yearly variance.\")\n",
    "best_df = third_trial.query(\"cluster == 4\").sort_values(by = ['avg_yearly_returns', 'yearly_variance'], ascending = False)\n",
    "best_df.head()"
   ]
  },
  {
   "cell_type": "code",
   "execution_count": 100,
   "metadata": {},
   "outputs": [
    {
     "name": "stdout",
     "output_type": "stream",
     "text": [
      "Below is the list of Stocks Classified as Average. \n",
      "These perform better than the bad stocks, but are not as good as the best stocks.\n"
     ]
    },
    {
     "data": {
      "text/html": [
       "<div>\n",
       "<style scoped>\n",
       "    .dataframe tbody tr th:only-of-type {\n",
       "        vertical-align: middle;\n",
       "    }\n",
       "\n",
       "    .dataframe tbody tr th {\n",
       "        vertical-align: top;\n",
       "    }\n",
       "\n",
       "    .dataframe thead th {\n",
       "        text-align: right;\n",
       "    }\n",
       "</style>\n",
       "<table border=\"1\" class=\"dataframe\">\n",
       "  <thead>\n",
       "    <tr style=\"text-align: right;\">\n",
       "      <th></th>\n",
       "      <th>Name</th>\n",
       "      <th>avg_yearly_returns</th>\n",
       "      <th>yearly_variance</th>\n",
       "      <th>cluster</th>\n",
       "    </tr>\n",
       "  </thead>\n",
       "  <tbody>\n",
       "    <tr>\n",
       "      <th>320</th>\n",
       "      <td>PCLN</td>\n",
       "      <td>0.240226</td>\n",
       "      <td>0.089303</td>\n",
       "      <td>2</td>\n",
       "    </tr>\n",
       "    <tr>\n",
       "      <th>409</th>\n",
       "      <td>UHS</td>\n",
       "      <td>0.202874</td>\n",
       "      <td>0.074121</td>\n",
       "      <td>2</td>\n",
       "    </tr>\n",
       "    <tr>\n",
       "      <th>193</th>\n",
       "      <td>GT</td>\n",
       "      <td>0.194864</td>\n",
       "      <td>0.071679</td>\n",
       "      <td>2</td>\n",
       "    </tr>\n",
       "    <tr>\n",
       "      <th>412</th>\n",
       "      <td>UNM</td>\n",
       "      <td>0.190374</td>\n",
       "      <td>0.071527</td>\n",
       "      <td>2</td>\n",
       "    </tr>\n",
       "    <tr>\n",
       "      <th>314</th>\n",
       "      <td>ORLY</td>\n",
       "      <td>0.187140</td>\n",
       "      <td>0.083270</td>\n",
       "      <td>2</td>\n",
       "    </tr>\n",
       "  </tbody>\n",
       "</table>\n",
       "</div>"
      ],
      "text/plain": [
       "     Name  avg_yearly_returns  yearly_variance  cluster\n",
       "320  PCLN            0.240226         0.089303        2\n",
       "409   UHS            0.202874         0.074121        2\n",
       "193    GT            0.194864         0.071679        2\n",
       "412   UNM            0.190374         0.071527        2\n",
       "314  ORLY            0.187140         0.083270        2"
      ]
     },
     "execution_count": 100,
     "metadata": {},
     "output_type": "execute_result"
    }
   ],
   "source": [
    "print(\"Below is the list of Stocks Classified as Average. \\nThese perform better than the bad stocks, but are not as good as the best stocks.\")\n",
    "avg_df = third_trial.query(\"cluster == 2\").sort_values(by = ['avg_yearly_returns', 'yearly_variance'], ascending = False)\n",
    "avg_df.head()"
   ]
  },
  {
   "cell_type": "code",
   "execution_count": 103,
   "metadata": {},
   "outputs": [
    {
     "name": "stdout",
     "output_type": "stream",
     "text": [
      "Below is the list of Stocks Classified as Bad. \n",
      "These have the worst performance of all the stocks in the dataset.\n"
     ]
    },
    {
     "data": {
      "text/html": [
       "<div>\n",
       "<style scoped>\n",
       "    .dataframe tbody tr th:only-of-type {\n",
       "        vertical-align: middle;\n",
       "    }\n",
       "\n",
       "    .dataframe tbody tr th {\n",
       "        vertical-align: top;\n",
       "    }\n",
       "\n",
       "    .dataframe thead th {\n",
       "        text-align: right;\n",
       "    }\n",
       "</style>\n",
       "<table border=\"1\" class=\"dataframe\">\n",
       "  <thead>\n",
       "    <tr style=\"text-align: right;\">\n",
       "      <th></th>\n",
       "      <th>Name</th>\n",
       "      <th>avg_yearly_returns</th>\n",
       "      <th>yearly_variance</th>\n",
       "      <th>cluster</th>\n",
       "    </tr>\n",
       "  </thead>\n",
       "  <tbody>\n",
       "    <tr>\n",
       "      <th>308</th>\n",
       "      <td>NYSE:NBL</td>\n",
       "      <td>-0.217745</td>\n",
       "      <td>0.093695</td>\n",
       "      <td>0</td>\n",
       "    </tr>\n",
       "    <tr>\n",
       "      <th>37</th>\n",
       "      <td>APA</td>\n",
       "      <td>-0.082616</td>\n",
       "      <td>0.087413</td>\n",
       "      <td>0</td>\n",
       "    </tr>\n",
       "    <tr>\n",
       "      <th>288</th>\n",
       "      <td>MRO</td>\n",
       "      <td>-0.077685</td>\n",
       "      <td>0.114981</td>\n",
       "      <td>0</td>\n",
       "    </tr>\n",
       "    <tr>\n",
       "      <th>123</th>\n",
       "      <td>DISCA</td>\n",
       "      <td>-0.068810</td>\n",
       "      <td>0.123705</td>\n",
       "      <td>0</td>\n",
       "    </tr>\n",
       "    <tr>\n",
       "      <th>336</th>\n",
       "      <td>PPG</td>\n",
       "      <td>-0.055260</td>\n",
       "      <td>0.107134</td>\n",
       "      <td>0</td>\n",
       "    </tr>\n",
       "  </tbody>\n",
       "</table>\n",
       "</div>"
      ],
      "text/plain": [
       "         Name  avg_yearly_returns  yearly_variance  cluster\n",
       "308  NYSE:NBL           -0.217745         0.093695        0\n",
       "37        APA           -0.082616         0.087413        0\n",
       "288       MRO           -0.077685         0.114981        0\n",
       "123     DISCA           -0.068810         0.123705        0\n",
       "336       PPG           -0.055260         0.107134        0"
      ]
     },
     "execution_count": 103,
     "metadata": {},
     "output_type": "execute_result"
    }
   ],
   "source": [
    "print(\"Below is the list of Stocks Classified as Bad. \\nThese have the worst performance of all the stocks in the dataset.\")\n",
    "bad_df = third_trial.query(\"cluster == 0\").sort_values(by = ['avg_yearly_returns', 'yearly_variance'])\n",
    "bad_df.head()"
   ]
  },
  {
   "cell_type": "code",
   "execution_count": 102,
   "metadata": {},
   "outputs": [],
   "source": [
    "import csv\n",
    "export_csv = best_df.to_csv('Best Stock Picks.csv')\n",
    "export_csv = avg_df.to_csv('Average Stock Picks.csv')\n",
    "export_csv = bad_df.to_csv('Worst Stock Picks.csv')"
   ]
  }
 ],
 "metadata": {
  "kernelspec": {
   "display_name": "Python 3",
   "language": "python",
   "name": "python3"
  },
  "language_info": {
   "codemirror_mode": {
    "name": "ipython",
    "version": 3
   },
   "file_extension": ".py",
   "mimetype": "text/x-python",
   "name": "python",
   "nbconvert_exporter": "python",
   "pygments_lexer": "ipython3",
   "version": "3.7.3"
  }
 },
 "nbformat": 4,
 "nbformat_minor": 2
}
